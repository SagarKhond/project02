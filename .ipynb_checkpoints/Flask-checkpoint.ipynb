{
 "cells": [
  {
   "cell_type": "markdown",
   "id": "ed06a7fe",
   "metadata": {},
   "source": [
    "## Data science project life cycle"
   ]
  },
  {
   "cell_type": "code",
   "execution_count": null,
   "id": "346ea897",
   "metadata": {},
   "outputs": [],
   "source": [
    "1.problem statement\n",
    "2.Data Gathering\n",
    "3.EDA\n",
    "4.Feature Engineering\n",
    "5.Feature selection\n",
    "6.Model Traning\n",
    "7.Model Evalution\n",
    "8.web application\n",
    "9.web deployment(by using the api in flask)\n"
   ]
  },
  {
   "cell_type": "code",
   "execution_count": null,
   "id": "bef3ced8",
   "metadata": {},
   "outputs": [],
   "source": [
    " Design aaplication:\n",
    "        1.Ux designer\n",
    "        2.UI designer (Full stack developer)/ front end deveploer /HTML,CSS,java script\n",
    "        3.python developer ,Data Scientist/Backend developer\n",
    "        \n",
    "UI-user interphase\n",
    "API-Appication Programing Interphase/excute behind the button"
   ]
  },
  {
   "cell_type": "markdown",
   "id": "dae84ba0",
   "metadata": {},
   "source": [
    "### web framework"
   ]
  },
  {
   "cell_type": "code",
   "execution_count": null,
   "id": "8e4f352f",
   "metadata": {},
   "outputs": [],
   "source": [
    "## it is used to build the application \n",
    "1.Flask   ---- widely used framework\n",
    "2.Django\n",
    "3.FastAPI\n",
    "4.GRPC\n",
    "# at least you have to know one of the frame work \n",
    "# it vary accordig the company "
   ]
  },
  {
   "cell_type": "markdown",
   "id": "e6c2405f",
   "metadata": {},
   "source": [
    "#### Flask"
   ]
  },
  {
   "cell_type": "code",
   "execution_count": null,
   "id": "bf892eb5",
   "metadata": {},
   "outputs": [],
   "source": [
    "### project and there you have framework you have to learn that framework"
   ]
  },
  {
   "cell_type": "code",
   "execution_count": null,
   "id": "6afa9366",
   "metadata": {},
   "outputs": [],
   "source": [
    "Flask is web application framework  written in python\n",
    "It is based on the two:\n",
    "    1.WSGI toolkit (web server gatway interphase)\n",
    "    it provides the interphase betwwen the web application and the web server\n",
    "    2.jinja2 template engine:(we write the html code in flask)\n",
    "    Templating engine which provide/renderd the html coding in the flask\n",
    "    "
   ]
  },
  {
   "cell_type": "markdown",
   "id": "2d9cca61",
   "metadata": {},
   "source": [
    "#### cloud plateform"
   ]
  },
  {
   "cell_type": "code",
   "execution_count": null,
   "id": "6c164664",
   "metadata": {},
   "outputs": [],
   "source": [
    "## it is used to host our web application\n",
    "1.AWS\n",
    "2.Microsoft assure\n",
    "3.GCP\n",
    "4.Hirokku\n",
    "domain :\n",
    "    http://www.sag.com"
   ]
  },
  {
   "cell_type": "code",
   "execution_count": 4,
   "id": "73bf4881",
   "metadata": {},
   "outputs": [
    {
     "name": "stdout",
     "output_type": "stream",
     "text": [
      "Defaulting to user installation because normal site-packages is not writeable\n",
      "Requirement already satisfied: flask in c:\\users\\shree\\appdata\\roaming\\python\\python310\\site-packages (2.2.2)\n",
      "Requirement already satisfied: Jinja2>=3.0 in c:\\users\\shree\\appdata\\roaming\\python\\python310\\site-packages (from flask) (3.1.2)\n",
      "Requirement already satisfied: itsdangerous>=2.0 in c:\\users\\shree\\appdata\\roaming\\python\\python310\\site-packages (from flask) (2.1.2)\n",
      "Requirement already satisfied: Werkzeug>=2.2.2 in c:\\users\\shree\\appdata\\roaming\\python\\python310\\site-packages (from flask) (2.2.2)\n",
      "Requirement already satisfied: click>=8.0 in c:\\users\\shree\\appdata\\roaming\\python\\python310\\site-packages (from flask) (8.1.3)\n",
      "Requirement already satisfied: colorama in c:\\users\\shree\\appdata\\roaming\\python\\python310\\site-packages (from click>=8.0->flask) (0.4.5)\n",
      "Requirement already satisfied: MarkupSafe>=2.0 in c:\\users\\shree\\appdata\\roaming\\python\\python310\\site-packages (from Jinja2>=3.0->flask) (2.1.1)\n",
      "Note: you may need to restart the kernel to use updated packages.\n"
     ]
    }
   ],
   "source": [
    "pip install flask"
   ]
  },
  {
   "cell_type": "code",
   "execution_count": null,
   "id": "7accf34b",
   "metadata": {},
   "outputs": [],
   "source": [
    "### url\n",
    "http://127.0.0.1:5000 ## local url\n",
    "http://www.flipkart.com >>s>SSL\n",
    "sequird scoket certificate (you have to purchase the certifcates)# works of deops people (providing the certificate)    \n",
    "        "
   ]
  },
  {
   "cell_type": "code",
   "execution_count": null,
   "id": "d77b7ccf",
   "metadata": {},
   "outputs": [],
   "source": [
    "127.0.0.1:5000\n",
    "127.0.0.1- ip address\n",
    "5000 - port number"
   ]
  },
  {
   "cell_type": "code",
   "execution_count": null,
   "id": "83743fd9",
   "metadata": {},
   "outputs": [],
   "source": [
    "hypert text trasfar protocal"
   ]
  },
  {
   "cell_type": "code",
   "execution_count": null,
   "id": "0a8c774d",
   "metadata": {},
   "outputs": [],
   "source": [
    "ttp://127.0.0.1:5000 >> URL\n",
    "        \n",
    "http >> Hyper Text transfer Protocol\n",
    "\n",
    "https://www.flipkart.com >> s >> SSL >> Secure Socket layer\n",
    "    Secure certificate\n",
    "\n",
    "http://127.0.0.1:5000\n",
    "http://0.0.0.0:5000\n",
    "http://localhost:5000\n",
    "        \n",
    "127.0.0.1\n",
    "0.0.0.0\n",
    "localhost\n",
    "192.45.1.189\n",
    "\n",
    "5000 >> default Port Number for local url host"
   ]
  },
  {
   "cell_type": "markdown",
   "id": "03764fbc",
   "metadata": {},
   "source": [
    "## Postman"
   ]
  },
  {
   "cell_type": "markdown",
   "id": "2afa77c6",
   "metadata": {},
   "source": [
    "#### it is used for api testing"
   ]
  },
  {
   "cell_type": "code",
   "execution_count": null,
   "id": "c57aa7de",
   "metadata": {},
   "outputs": [],
   "source": [
    "Dict([('a', '20'), ('b', '10')])"
   ]
  }
 ],
 "metadata": {
  "kernelspec": {
   "display_name": "Python 3 (ipykernel)",
   "language": "python",
   "name": "python3"
  },
  "language_info": {
   "codemirror_mode": {
    "name": "ipython",
    "version": 3
   },
   "file_extension": ".py",
   "mimetype": "text/x-python",
   "name": "python",
   "nbconvert_exporter": "python",
   "pygments_lexer": "ipython3",
   "version": "3.10.5"
  }
 },
 "nbformat": 4,
 "nbformat_minor": 5
}
